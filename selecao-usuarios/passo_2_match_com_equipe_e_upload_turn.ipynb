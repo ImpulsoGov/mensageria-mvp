{
 "cells": [
  {
   "cell_type": "markdown",
   "metadata": {},
   "source": [
    "### Match com equipe e Upload na Turn\n",
    "\n",
    "A partir dos usuários selecionados para o dia no Passo 1, une suas informações com suas informações de equipe/estabelecimentos que esta no Big Query e advem da Turn e após isso da upload na turn."
   ]
  },
  {
   "cell_type": "markdown",
   "metadata": {},
   "source": [
    "#### Configurações iniciais do ambiente"
   ]
  },
  {
   "cell_type": "code",
   "execution_count": null,
   "metadata": {
    "vscode": {
     "languageId": "plaintext"
    }
   },
   "outputs": [],
   "source": []
  },
  {
   "cell_type": "markdown",
   "metadata": {},
   "source": [
    "#### Match\n",
    "\n",
    "Une dados da tabela de seção diaria \"ip_mensageria_camada_prata.historico_envio_mensagens\" do BigQuery com os dados do estabelecimento que a pessoa é relativo por meio do cadastro da equipe de responsabilidade de atualização das coordenadoras de equipe, que estão registradas na tabela \"AINDA_NAO_TEMOS_ESSA_TABELA\" no BigQuery."
   ]
  },
  {
   "cell_type": "code",
   "execution_count": null,
   "metadata": {
    "vscode": {
     "languageId": "plaintext"
    }
   },
   "outputs": [],
   "source": []
  },
  {
   "cell_type": "markdown",
   "metadata": {},
   "source": [
    "#### Upload\n",
    "\n",
    "Da upload no perfil respectivo ao seu municipio na Turn. Inclui os seguintes campos:\n",
    "- opted_in=true\n",
    "- "
   ]
  },
  {
   "cell_type": "code",
   "execution_count": null,
   "metadata": {
    "vscode": {
     "languageId": "plaintext"
    }
   },
   "outputs": [],
   "source": [
    "tokens_municipios = [\n",
    "    {\"municipio\": \"Paulo Ramos\", \"id_sus\": \"210810\", \"token\": os.getenv('ENV_PAULORAMOS_MA')},\n",
    "    {\"municipio\": \"Pacoti\", \"id_sus\": \"210810\", \"token\": os.getenv('ENV_PACOTI_CE')},\n",
    "    {\"municipio\": \"Marajá do Sena\", \"id_sus\": \"210810\", \"token\": os.getenv('ENV_MARAJADOSENA_MA')},\n",
    "    {\"municipio\": \"Monsenhor Tabosa\", \"id_sus\": \"210810\", \"token\": os.getenv('ENV_MONSENHORTABOSA_CE')},\n",
    "    {\"municipio\": \"Lago Verde\", \"id_sus\": \"210590\", \"token\": os.getenv('ENV_LAGOVERDE_MA')}                                                 \n",
    "]"
   ]
  },
  {
   "cell_type": "code",
   "execution_count": null,
   "metadata": {
    "vscode": {
     "languageId": "plaintext"
    }
   },
   "outputs": [],
   "source": [
    "for linha in dataframe:\n",
    "    "
   ]
  }
 ],
 "metadata": {
  "language_info": {
   "name": "python"
  }
 },
 "nbformat": 4,
 "nbformat_minor": 2
}
