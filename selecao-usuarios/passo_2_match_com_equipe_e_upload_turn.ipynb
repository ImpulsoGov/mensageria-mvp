{
  "nbformat": 4,
  "nbformat_minor": 0,
  "metadata": {
    "colab": {
      "provenance": [],
      "mount_file_id": "1CBC07R3IByunGwg4gEXuDNawK8eEHdho",
      "authorship_tag": "ABX9TyPyDaszRAI3JV3X+xRNV0Vz",
      "include_colab_link": true
    },
    "kernelspec": {
      "name": "python3",
      "display_name": "Python 3"
    },
    "language_info": {
      "name": "python"
    }
  },
  "cells": [
    {
      "cell_type": "markdown",
      "metadata": {
        "id": "view-in-github",
        "colab_type": "text"
      },
      "source": [
        "<a href=\"https://colab.research.google.com/github/ImpulsoGov/mensageria-mvp/blob/main/passo_2_match_com_equipe_e_upload_turn.ipynb\" target=\"_parent\"><img src=\"https://colab.research.google.com/assets/colab-badge.svg\" alt=\"Open In Colab\"/></a>"
      ]
    },
    {
      "cell_type": "markdown",
      "source": [
        "### Match com equipes da base de dados da Turn e upload de contatos"
      ],
      "metadata": {
        "id": "0Y4jam8FyiEJ"
      }
    },
    {
      "cell_type": "markdown",
      "source": [
        "#### Configurações iniciais do ambiente"
      ],
      "metadata": {
        "id": "VWOJPS2skSgp"
      }
    },
    {
      "cell_type": "code",
      "source": [
        "!pip install python-dotenv"
      ],
      "metadata": {
        "colab": {
          "base_uri": "https://localhost:8080/"
        },
        "id": "dwz-F1ACLefn",
        "outputId": "1d3460e5-1cab-4b4b-d6b4-abe00a453d9f"
      },
      "execution_count": 3,
      "outputs": [
        {
          "output_type": "stream",
          "name": "stdout",
          "text": [
            "Collecting python-dotenv\n",
            "  Downloading python_dotenv-1.0.1-py3-none-any.whl.metadata (23 kB)\n",
            "Downloading python_dotenv-1.0.1-py3-none-any.whl (19 kB)\n",
            "Installing collected packages: python-dotenv\n",
            "Successfully installed python-dotenv-1.0.1\n"
          ]
        }
      ]
    },
    {
      "cell_type": "code",
      "source": [
        "import pandas as pd\n",
        "import io\n",
        "import numpy as np\n",
        "from sklearn.model_selection import train_test_split\n",
        "from google.oauth2 import service_account\n",
        "from datetime import datetime\n",
        "from google.cloud import bigquery\n",
        "credentials = service_account.Credentials.from_service_account_file('/content/drive/MyDrive/credenciais_service_account.json')\n",
        "project_id = 'predictive-keep-314223'\n",
        "client = bigquery.Client(credentials= credentials,project=project_id)\n",
        "import requests\n",
        "import json\n",
        "import time\n",
        "from dotenv import load_dotenv\n",
        "import os"
      ],
      "metadata": {
        "id": "t1BtY5a9_PS4"
      },
      "execution_count": 4,
      "outputs": []
    },
    {
      "cell_type": "markdown",
      "source": [
        "#### Consulta e preparação dos dados"
      ],
      "metadata": {
        "id": "n9eY2TXNyyHz"
      }
    },
    {
      "cell_type": "code",
      "source": [
        "# carregando a tabela de usuários selecionados\n",
        "query = \"\"\"\n",
        "    SELECT *\n",
        "    FROM `predictive-keep-314223.ip_mensageria_camada_prata.historico_envio_mensagens`\n",
        "    WHERE mvp_data_envio = current_date()\n",
        "\"\"\"\n",
        "\n",
        "query_job = client.query(query)\n",
        "df_historico_envio_mensagens = query_job.to_dataframe()"
      ],
      "metadata": {
        "id": "nKqr8oJhy-O7"
      },
      "execution_count": 7,
      "outputs": []
    },
    {
      "cell_type": "code",
      "source": [
        "# carregando dados dos municipios da tabela do ibge\n",
        "query = \"\"\"\n",
        "    SELECT *\n",
        "    FROM `predictive-keep-314223.lista_de_codigos.municipios_ibge`\n",
        "\"\"\"\n",
        "\n",
        "query_job = client.query(query)\n",
        "df_ibge = query_job.to_dataframe()"
      ],
      "metadata": {
        "id": "VaRTCuuZSbVw"
      },
      "execution_count": 8,
      "outputs": []
    },
    {
      "cell_type": "code",
      "source": [
        "df_ibge['id_sus'] = df_ibge['id_sus'].astype(str)\n",
        "df_historico_envio_mensagens['municipio_id_sus'] = df_historico_envio_mensagens['municipio_id_sus'].astype(str)"
      ],
      "metadata": {
        "id": "eQyXqEaFX2V4"
      },
      "execution_count": 9,
      "outputs": []
    },
    {
      "cell_type": "code",
      "source": [
        "# merge da tabela de usuários com de municípios\n",
        "df_historico_envio_mensagens = pd.merge(df_historico_envio_mensagens, df_ibge[['id_sus','nome','uf_sigla']], left_on=['municipio_id_sus'],right_on=['id_sus'] , how='left')"
      ],
      "metadata": {
        "id": "0qAciFHmSh8s"
      },
      "execution_count": 10,
      "outputs": []
    },
    {
      "cell_type": "code",
      "source": [
        "# carregando a view com dados da Turn io\n",
        "query = \"\"\"\n",
        "    SELECT *\n",
        "    FROM `predictive-keep-314223.ip_mensageria_camada_prata.contact_details_turnio`\n",
        "\"\"\"\n",
        "\n",
        "query_job = client.query(query)\n",
        "df_contatos_turnio = query_job.to_dataframe()"
      ],
      "metadata": {
        "id": "xZtzakTAzFXm"
      },
      "execution_count": 11,
      "outputs": []
    },
    {
      "cell_type": "code",
      "source": [
        "df_contatos_turnio[['municipio', 'uf']] = df_contatos_turnio['details_municipio'].str.split(' - ', expand=True)"
      ],
      "metadata": {
        "id": "yRujWxlIWEux"
      },
      "execution_count": 12,
      "outputs": []
    },
    {
      "cell_type": "code",
      "source": [
        "# merge das tabelas de dados dos usuários e estabelecimento\n",
        "df = pd.merge(df_historico_envio_mensagens, df_contatos_turnio, left_on=['equipe_nome','municipio','uf_sigla'], right_on=['details_equipe_nome','municipio','uf'], how='left')"
      ],
      "metadata": {
        "id": "OOAIOjzQQGNq"
      },
      "execution_count": 14,
      "outputs": []
    },
    {
      "cell_type": "code",
      "source": [
        "df_envio_turn = df[['municipio',\n",
        "                    'uf_sigla',\n",
        "                    'municipio_id_sus',\n",
        "                    'equipe_ine',\n",
        "                    'equipe_nome',\n",
        "                    'linha_cuidado',\n",
        "                    'nome_do_paciente',\n",
        "                    'data_de_nascimento',\n",
        "                    'celular_tratado',\n",
        "                    'mvp_tipo_grupo',\n",
        "                    'mvp_data_envio',\n",
        "                    'mvp_grupo',\n",
        "                    'details_horarios_cronicos',\n",
        "                    'details_telefone',\n",
        "                    'details_estabelecimento_endereco',\n",
        "                    'details_estabelecimento_telefone',\n",
        "                    'details_estabelecimento_nome',\n",
        "                    'details_horarios_cito',\n",
        "                    'details_estabelecimento_documentos',\n",
        "                    'details_estabelecimento_horario'\n",
        "                    ]]"
      ],
      "metadata": {
        "id": "lAoFc0fNYMc3"
      },
      "execution_count": 26,
      "outputs": []
    },
    {
      "cell_type": "code",
      "source": [
        "df_envio_turn = df_envio_turn.rename(columns={'details_horarios_cronicos':'horarios_cronicos',\n",
        "                                              'details_telefone':'telefone',\n",
        "                                              'details_estabelecimento_endereco':'estabelecimento_endereco',\n",
        "                                              'details_estabelecimento_telefone':'estabelecimento_telefone',\n",
        "                                              'details_estabelecimento_nome':'estabelecimento_nome',\n",
        "                                              'details_horarios_cito':'horarios_cito',\n",
        "                                              'details_estabelecimento_documentos':'estabelecimento_documentos',\n",
        "                                              'details_estabelecimento_horario':'estabelecimento_horario'})"
      ],
      "metadata": {
        "id": "wfmXlaQEFJRF"
      },
      "execution_count": 27,
      "outputs": []
    },
    {
      "cell_type": "markdown",
      "source": [
        "#### Configuração do envio para a Turn io"
      ],
      "metadata": {
        "id": "4JKL7hedKW8E"
      }
    },
    {
      "cell_type": "code",
      "source": [
        "load_dotenv('/content/drive/MyDrive/env.env')\n",
        "tokens_municipios = [\n",
        "    {\"municipio\": \"Paulo Ramos\", \"id_sus\": \"210810\", \"token\": os.getenv('ENV_PAULORAMOS_MA')},\n",
        "    {\"municipio\": \"Pacoti\", \"id_sus\": \"230980\", \"token\": os.getenv('ENV_PACOTI_CE')},\n",
        "    {\"municipio\": \"Marajá do Sena\", \"id_sus\": \"210635\", \"token\": os.getenv('ENV_MARAJADOSENA_MA')},\n",
        "    {\"municipio\": \"Monsenhor Tabosa\", \"id_sus\": \"230860\", \"token\": os.getenv('ENV_MONSENHORTABOSA_CE')},\n",
        "    {\"municipio\": \"Lago Verde\", \"id_sus\": \"210590\", \"token\": os.getenv('ENV_LAGOVERDE_MA')},\n",
        "    {\"municipio\": \"Alagoinha\", \"id_sus\": \"260060\", \"token\": os.getenv('ENV_ALAGOINHA_PE')},\n",
        "    {\"municipio\": \"Baraúna\", \"id_sus\": \"240145\", \"token\": os.getenv('ENV_BARAUNA_RN')},\n",
        "    {\"municipio\": \"Jucuruçu\", \"id_sus\": \"291845\", \"token\": os.getenv('ENV_JUCURUCU_BA')},\n",
        "    {\"municipio\": \"Vitorino Freire\", \"id_sus\": \"211300\", \"token\": os.getenv('ENV_VITORINOFREIRE_MA')},\n",
        "\n",
        "]"
      ],
      "metadata": {
        "id": "GwyAstrNMX7N"
      },
      "execution_count": 22,
      "outputs": []
    },
    {
      "cell_type": "code",
      "source": [
        "def get_token(municipio_id_sus):\n",
        "    for token_info in tokens_municipios:\n",
        "        if token_info['id_sus'] == municipio_id_sus:\n",
        "            return token_info['token']\n",
        "    return None\n",
        "\n",
        "def send_data(df, municipio_id_sus):\n",
        "    token = get_token(municipio_id_sus)\n",
        "    if not token:\n",
        "        print(f\"Token não encontrado para {municipio_id_sus}\")\n",
        "        return\n",
        "\n",
        "    headers = {\n",
        "        'Authorization': f'Bearer {token}',\n",
        "        'Accept': 'application/vnd.v1+json',\n",
        "        'Content-Type': 'application/json'\n",
        "    }\n",
        "\n",
        "    df_filtered = df[df['municipio_id_sus'] == municipio_id_sus]\n",
        "\n",
        "    for i, row in df_filtered.iterrows():\n",
        "        data_message = {\n",
        "            \"preview_url\": False,\n",
        "            \"recipient_type\": \"individual\",\n",
        "            \"to\": str(row.celular_tratado),\n",
        "            \"type\": \"text\",\n",
        "            \"text\": {\"body\": \"Este número pertence a ImpulsoGov.\"}\n",
        "        }\n",
        "        url_message = 'https://whatsapp.turn.io/v1/messages'\n",
        "\n",
        "        try:\n",
        "            response_message = requests.post(url_message, headers=headers, json=data_message)\n",
        "            print(f\"Resposta da mensagem para {row.celular_tratado}: {response_message.text}\")\n",
        "        except Exception as e:\n",
        "            print(f\"Erro ao enviar mensagem para {row.celular_tratado}: {e}\")\n",
        "            continue\n",
        "\n",
        "        time.sleep(1)\n",
        "\n",
        "        #atualiza opted_in\n",
        "        json_data_profile = {\n",
        "            \"opted_in\": True,\n",
        "        }\n",
        "        url_profile = f'https://whatsapp.turn.io/v1/contacts/{row.celular_tratado}/profile'\n",
        "\n",
        "        try:\n",
        "            response_profile = requests.patch(url_profile, headers=headers, json=json_data_profile)\n",
        "            print(f\"Resposta do perfil para {row.celular_tratado}: {response_profile.text}\")\n",
        "        except Exception as e:\n",
        "            print(f\"Erro ao atualizar perfil de {row.celular_tratado}: {e}\")\n",
        "\n",
        "        time.sleep(1)\n",
        "\n",
        "for municipio_id_sus in df_envio_turn['municipio_id_sus'].unique():\n",
        "    send_data(df_envio_turn, municipio_id_sus)\n"
      ],
      "metadata": {
        "colab": {
          "base_uri": "https://localhost:8080/"
        },
        "id": "uRLkOJywszMZ",
        "outputId": "9f519802-f029-443e-db2f-2304ad4820d9"
      },
      "execution_count": 25,
      "outputs": [
        {
          "output_type": "stream",
          "name": "stdout",
          "text": [
            "Resposta da mensagem para 5511952542220: {\"meta\":{\"version\":\"4.684.1\",\"backend\":{\"name\":\"WhatsApp\",\"version\":\"latest\"},\"api_status\":\"stable\"},\"errors\":[{\"code\":133010,\"error_subcode\":2593006,\"error_user_msg\":\"Account does not exist in Cloud API, please use /register API to create an account first.\",\"error_user_title\":\"Account Not Exist\",\"fbtrace_id\":\"A6IszZmCNg-7Y07TfN0Vda2\",\"is_transient\":false,\"message\":\"The account is not registered\",\"type\":\"OAuthException\"}]}\n",
            "Resposta do perfil para 5511952542220: {\"fields\":{\"birthday\":null,\"equipe_ine\":null,\"equipe_nome\":null,\"estabelecimento_documentos\":null,\"estabelecimento_endereco\":null,\"estabelecimento_horario\":null,\"estabelecimento_nome\":null,\"estabelecimento_telefone\":null,\"first_message_received_at\":null,\"horarios_cito\":null,\"horarios_cronicos\":null,\"is_blocked\":false,\"language\":null,\"last_message_received_at\":null,\"last_message_sent_at\":null,\"last_seen_at\":null,\"linha_de_cuidado\":null,\"location\":null,\"municipio\":null,\"municipio_id_sus\":null,\"mvp_data_envio\":null,\"mvp_grupo\":null,\"mvp_tipo_grupo\":null,\"name\":null,\"nome_do_paciente\":null,\"opted_in\":true,\"opted_in_at\":null,\"surname\":null,\"whatsapp_id\":\"5511952542220\",\"whatsapp_profile_name\":null},\"uuid\":\"5d179156-f099-4a61-982d-1e7e5ba59816\",\"schema\":\"b20606b8-c758-4758-ae88-b807ce108895\",\"updated_at\":\"2024-10-22T17:48:22.391087Z\",\"generation\":null,\"is_staging_user\":false}\n",
            "Resposta da mensagem para 5511952542220: {\"meta\":{\"version\":\"4.684.1\",\"backend\":{\"name\":\"WhatsApp\",\"version\":\"latest\"},\"api_status\":\"stable\"},\"errors\":[{\"code\":133010,\"error_subcode\":2593006,\"error_user_msg\":\"Account does not exist in Cloud API, please use /register API to create an account first.\",\"error_user_title\":\"Account Not Exist\",\"fbtrace_id\":\"ASdnAMCPB2b3goMAcpN7AvC\",\"is_transient\":false,\"message\":\"The account is not registered\",\"type\":\"OAuthException\"}]}\n",
            "Resposta do perfil para 5511952542220: {\"fields\":{\"birthday\":null,\"equipe_ine\":null,\"equipe_nome\":null,\"estabelecimento_documentos\":null,\"estabelecimento_endereco\":null,\"estabelecimento_horario\":null,\"estabelecimento_nome\":null,\"estabelecimento_telefone\":null,\"first_message_received_at\":null,\"horarios_cito\":null,\"horarios_cronicos\":null,\"is_blocked\":false,\"language\":null,\"last_message_received_at\":null,\"last_message_sent_at\":null,\"last_seen_at\":null,\"linha_de_cuidado\":null,\"location\":null,\"municipio\":null,\"municipio_id_sus\":null,\"mvp_data_envio\":null,\"mvp_grupo\":null,\"mvp_tipo_grupo\":null,\"name\":null,\"nome_do_paciente\":null,\"opted_in\":true,\"opted_in_at\":null,\"surname\":null,\"whatsapp_id\":\"5511952542220\",\"whatsapp_profile_name\":null},\"uuid\":\"5d179156-f099-4a61-982d-1e7e5ba59816\",\"schema\":\"b20606b8-c758-4758-ae88-b807ce108895\",\"updated_at\":\"2024-10-22T17:48:24.710338Z\",\"generation\":null,\"is_staging_user\":false}\n",
            "Resposta da mensagem para 5511952542220: {\"messages\":[{\"id\":\"wamid.HBgNNTUxMTk1MjU0MjIyMBUCABEYEjMyQ0ZCOUExQjk5RjUwQTNBRQA=\"}],\"meta\":{\"version\":\"4.684.1\",\"backend\":{\"name\":\"WhatsApp\",\"version\":\"latest\"},\"api_status\":\"stable\"}}\n",
            "Resposta do perfil para 5511952542220: {\"fields\":{\"birthday\":null,\"equipe_ine\":null,\"equipe_nome\":null,\"estabelecimento_documentos\":null,\"estabelecimento_endereco\":null,\"estabelecimento_horario\":null,\"estabelecimento_nome\":null,\"estabelecimento_telefone\":null,\"first_message_received_at\":null,\"horarios_cito\":null,\"horarios_cronicos\":null,\"is_blocked\":false,\"language\":null,\"last_message_received_at\":null,\"last_message_sent_at\":\"2024-10-22T17:48:26.759439Z\",\"last_seen_at\":null,\"linha_de_cuidado\":null,\"location\":null,\"municipio\":null,\"municipio_id_sus\":null,\"mvp_data_envio\":null,\"mvp_grupo\":null,\"mvp_tipo_grupo\":null,\"name\":null,\"nome_do_paciente\":null,\"opted_in\":true,\"opted_in_at\":null,\"surname\":null,\"whatsapp_id\":\"5511952542220\",\"whatsapp_profile_name\":null},\"uuid\":\"7bbb704e-0ae2-4817-8dac-9666f037df36\",\"schema\":\"a02e1e2a-246f-4af6-99cc-ca6a1bd978c1\",\"updated_at\":\"2024-10-22T17:48:27.926649Z\",\"generation\":null,\"is_staging_user\":false}\n",
            "Resposta da mensagem para 5511952542220: {\"messages\":[{\"id\":\"wamid.HBgNNTUxMTk1MjU0MjIyMBUCABEYEjgxRkRBMkQ1QkY5MzcyNkEwQwA=\"}],\"meta\":{\"version\":\"4.684.1\",\"backend\":{\"name\":\"WhatsApp\",\"version\":\"latest\"},\"api_status\":\"stable\"}}\n",
            "Resposta do perfil para 5511952542220: {\"fields\":{\"birthday\":null,\"equipe_ine\":null,\"equipe_nome\":null,\"estabelecimento_documentos\":null,\"estabelecimento_endereco\":null,\"estabelecimento_horario\":null,\"estabelecimento_nome\":null,\"estabelecimento_telefone\":null,\"first_message_received_at\":null,\"horarios_cito\":null,\"horarios_cronicos\":null,\"is_blocked\":false,\"language\":null,\"last_message_received_at\":null,\"last_message_sent_at\":\"2024-10-22T17:48:30.083109Z\",\"last_seen_at\":null,\"linha_de_cuidado\":null,\"location\":null,\"municipio\":null,\"municipio_id_sus\":null,\"mvp_data_envio\":null,\"mvp_grupo\":null,\"mvp_tipo_grupo\":null,\"name\":null,\"nome_do_paciente\":null,\"opted_in\":true,\"opted_in_at\":null,\"surname\":null,\"whatsapp_id\":\"5511952542220\",\"whatsapp_profile_name\":null},\"uuid\":\"b834c035-503b-4816-bdac-21350493ad07\",\"schema\":\"0ac17dc0-3763-44f6-8b23-845a16c19049\",\"updated_at\":\"2024-10-22T17:48:31.244605Z\",\"generation\":null,\"is_staging_user\":false}\n",
            "Resposta da mensagem para 5511952542220: {\"messages\":[{\"id\":\"wamid.HBgNNTUxMTk1MjU0MjIyMBUCABEYEjExQkIyQjAzODYxMTBGODE4QQA=\"}],\"meta\":{\"version\":\"4.684.1\",\"backend\":{\"name\":\"WhatsApp\",\"version\":\"latest\"},\"api_status\":\"stable\"}}\n",
            "Resposta do perfil para 5511952542220: {\"fields\":{\"birthday\":null,\"equipe_ine\":null,\"equipe_nome\":null,\"estabelecimento_documentos\":null,\"estabelecimento_endereco\":null,\"estabelecimento_horario\":null,\"estabelecimento_nome\":null,\"estabelecimento_telefone\":null,\"first_message_received_at\":null,\"horarios_cito\":null,\"horarios_cronicos\":null,\"is_blocked\":false,\"language\":null,\"last_message_received_at\":null,\"last_message_sent_at\":\"2024-10-22T17:48:33.210677Z\",\"last_seen_at\":null,\"linha_de_cuidado\":null,\"location\":null,\"municipio\":null,\"municipio_id_sus\":null,\"mvp_data_envio\":null,\"mvp_grupo\":null,\"mvp_tipo_grupo\":null,\"name\":null,\"nome_do_paciente\":null,\"opted_in\":true,\"opted_in_at\":null,\"surname\":null,\"whatsapp_id\":\"5511952542220\",\"whatsapp_profile_name\":null},\"uuid\":\"d736bc66-fed7-406d-8284-4209543300db\",\"schema\":\"f2cced79-8801-4eaa-af99-4d31a5ee6c9a\",\"updated_at\":\"2024-10-22T17:48:34.366422Z\",\"generation\":null,\"is_staging_user\":false}\n",
            "Resposta da mensagem para 5511952542220: {\"messages\":[{\"id\":\"wamid.HBgNNTUxMTk1MjU0MjIyMBUCABEYEjRFMzQ2OUM2M0JBNEIwRjcxQgA=\"}],\"meta\":{\"version\":\"4.684.1\",\"backend\":{\"name\":\"WhatsApp\",\"version\":\"latest\"},\"api_status\":\"stable\"}}\n",
            "Resposta do perfil para 5511952542220: {\"fields\":{\"birthday\":null,\"equipe_ine\":null,\"equipe_nome\":null,\"estabelecimento_documentos\":null,\"estabelecimento_endereco\":null,\"estabelecimento_horario\":null,\"estabelecimento_nome\":null,\"estabelecimento_telefone\":null,\"first_message_received_at\":null,\"horarios_cito\":null,\"horarios_cronicos\":null,\"is_blocked\":false,\"language\":null,\"last_message_received_at\":null,\"last_message_sent_at\":\"2024-10-22T17:48:36.488650Z\",\"last_seen_at\":null,\"linha_de_cuidado\":null,\"location\":null,\"municipio\":null,\"municipio_id_sus\":null,\"mvp_data_envio\":null,\"mvp_grupo\":null,\"mvp_tipo_grupo\":null,\"name\":null,\"nome_do_paciente\":null,\"opted_in\":true,\"opted_in_at\":null,\"surname\":null,\"whatsapp_id\":\"5511952542220\",\"whatsapp_profile_name\":null},\"uuid\":\"80db4341-6e7c-4b6d-834d-a3e5d1ffe12c\",\"schema\":\"3a8f23ac-f3dc-4f51-ab2a-b69e199269e4\",\"updated_at\":\"2024-10-22T17:48:37.649468Z\",\"generation\":null,\"is_staging_user\":false}\n",
            "Resposta da mensagem para 5511952542220: {\"messages\":[{\"id\":\"wamid.HBgNNTUxMTk1MjU0MjIyMBUCABEYEjY4MDExMTQ4RTk4Q0VBMkNCRAA=\"}],\"meta\":{\"version\":\"4.684.1\",\"backend\":{\"name\":\"WhatsApp\",\"version\":\"latest\"},\"api_status\":\"stable\"}}\n",
            "Resposta do perfil para 5511952542220: {\"fields\":{\"birthday\":null,\"equipe_ine\":null,\"equipe_nome\":null,\"estabelecimento_documentos\":null,\"estabelecimento_endereco\":null,\"estabelecimento_horario\":null,\"estabelecimento_nome\":null,\"estabelecimento_telefone\":null,\"first_message_received_at\":null,\"horarios_cito\":null,\"horarios_cronicos\":null,\"is_blocked\":false,\"language\":null,\"last_message_received_at\":null,\"last_message_sent_at\":\"2024-10-22T17:48:39.639570Z\",\"last_seen_at\":null,\"linha_de_cuidado\":null,\"location\":null,\"municipio\":null,\"municipio_id_sus\":null,\"mvp_data_envio\":null,\"mvp_grupo\":null,\"mvp_tipo_grupo\":null,\"name\":null,\"nome_do_paciente\":null,\"opted_in\":true,\"opted_in_at\":null,\"surname\":null,\"whatsapp_id\":\"5511952542220\",\"whatsapp_profile_name\":null},\"uuid\":\"ca686751-d36b-4030-8eb7-73f5182a1298\",\"schema\":\"28511399-c9af-40ec-a852-082038f00f51\",\"updated_at\":\"2024-10-22T17:48:40.792724Z\",\"generation\":null,\"is_staging_user\":false}\n"
          ]
        }
      ]
    },
    {
      "cell_type": "code",
      "source": [],
      "metadata": {
        "id": "tm7owN2-BOnt"
      },
      "execution_count": null,
      "outputs": []
    }
  ]
}
