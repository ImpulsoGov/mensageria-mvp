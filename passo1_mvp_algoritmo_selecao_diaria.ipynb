{
  "nbformat": 4,
  "nbformat_minor": 0,
  "metadata": {
    "colab": {
      "provenance": [],
      "authorship_tag": "ABX9TyPWy9idgkz6haQ2t+2feAp1",
      "include_colab_link": true
    },
    "kernelspec": {
      "name": "python3",
      "display_name": "Python 3"
    },
    "language_info": {
      "name": "python"
    }
  },
  "cells": [
    {
      "cell_type": "markdown",
      "metadata": {
        "id": "view-in-github",
        "colab_type": "text"
      },
      "source": [
        "<a href=\"https://colab.research.google.com/github/ImpulsoGov/mensageria-mvp/blob/main/passo1_mvp_algoritmo_selecao_diaria.ipynb\" target=\"_parent\"><img src=\"https://colab.research.google.com/assets/colab-badge.svg\" alt=\"Open In Colab\"/></a>"
      ]
    },
    {
      "cell_type": "markdown",
      "source": [
        "### Seleção diária dos cidadãos para envio de mensagens"
      ],
      "metadata": {
        "id": "EbTZDUPjkKRo"
      }
    },
    {
      "cell_type": "markdown",
      "source": [
        "#### Configurações iniciais do ambiente"
      ],
      "metadata": {
        "id": "VWOJPS2skSgp"
      }
    },
    {
      "cell_type": "code",
      "execution_count": 64,
      "metadata": {
        "id": "aK1hEuW4i6wr"
      },
      "outputs": [],
      "source": [
        "# autenticação\n",
        "from google.colab import auth\n",
        "auth.authenticate_user()"
      ]
    },
    {
      "cell_type": "code",
      "source": [
        "# conexão BQ\n",
        "from google.cloud import bigquery\n",
        "client = bigquery.Client(project='predictive-keep-314223')"
      ],
      "metadata": {
        "id": "tdAn3_2wkaaR"
      },
      "execution_count": 65,
      "outputs": []
    },
    {
      "cell_type": "code",
      "source": [
        "# importação de bibliotecas\n",
        "import pandas as pd\n",
        "import numpy as np\n",
        "from sklearn.model_selection import train_test_split\n",
        "from google.oauth2 import service_account\n",
        "from datetime import datetime"
      ],
      "metadata": {
        "id": "uv-Sj-blka4R"
      },
      "execution_count": 66,
      "outputs": []
    },
    {
      "cell_type": "markdown",
      "source": [
        "#### Consulta e preparação dos dados"
      ],
      "metadata": {
        "id": "QCmIY0MMkevF"
      }
    },
    {
      "cell_type": "code",
      "source": [
        "# histórico e divisão dos grupos de teste e controle\n",
        "query = \"\"\"\n",
        "    SELECT *\n",
        "    FROM `predictive-keep-314223.ip_mensageria_camada_prata.divisao_teste_controle_equipes`\n",
        "\"\"\"\n",
        "\n",
        "query_job = client.query(query)\n",
        "df = query_job.to_dataframe()"
      ],
      "metadata": {
        "id": "o8g5ujY5kj6k"
      },
      "execution_count": 67,
      "outputs": []
    },
    {
      "cell_type": "code",
      "source": [
        "# dados atualizados para confirmação de pendência\n",
        "query = \"\"\"\n",
        "    SELECT *\n",
        "    FROM `predictive-keep-314223.ip_mensageria_camada_prata.unificado_lista_com_telefones_grupos_atendimentos`\n",
        "\"\"\"\n",
        "\n",
        "query_job = client.query(query)\n",
        "df_pendencias = query_job.to_dataframe()"
      ],
      "metadata": {
        "id": "06AzCk-WlA_x"
      },
      "execution_count": 68,
      "outputs": []
    },
    {
      "cell_type": "code",
      "source": [
        "# identificação dos cidadãos com pendências em cito\n",
        "df_pendencias['citopatologico_pendente_atual'] = df_pendencias['status_exame'].apply(lambda x: True if x in ('exame_nunca_realizado','exame_vencido','exame_vence_no_quadrimestre_atual') else False)"
      ],
      "metadata": {
        "id": "3CNVYQybloRR"
      },
      "execution_count": 69,
      "outputs": []
    },
    {
      "cell_type": "code",
      "source": [
        "# função para identificar crônicos em pendência\n",
        "def pendencia_cronicos(x):\n",
        "    if (x['esta_na_lista_hipertensos'] == True and (x['realizou_afericao_ultimos_6_meses'] == False or x['realizou_consulta_hip_ultimos_6_meses'] == False)) or (x['esta_na_lista_diabeticos'] == True and (x['realizou_consulta_dia_ultimos_6_meses'] == False or x['realizou_solicitacao_hemoglobina_ultimos_6_meses'] == False)):\n",
        "        return True\n",
        "    else:\n",
        "        return False\n",
        "\n",
        "df_pendencias['cronicos_pendente_atual'] = df_pendencias.apply(pendencia_cronicos,axis=1)"
      ],
      "metadata": {
        "id": "FQ58S2wymlLK"
      },
      "execution_count": 70,
      "outputs": []
    },
    {
      "cell_type": "code",
      "source": [
        "# junção dos dados históricos com a verificação de pendência atual\n",
        "df_unificado = df.merge(df_pendencias[['nome_do_paciente','data_de_nascimento','citopatologico_pendente_atual','cronicos_pendente_atual']],how='left', on=['nome_do_paciente','data_de_nascimento'])"
      ],
      "metadata": {
        "id": "7-d_uJWJnnjp"
      },
      "execution_count": 71,
      "outputs": []
    },
    {
      "cell_type": "code",
      "source": [
        "# verificaçao se a linha de cuidado ainda está pendente\n",
        "def pendencia_atualizada(x):\n",
        "    if x['linha_cuidado']=='cronicos' and x['cronicos_pendente_atual']==True:\n",
        "        return True\n",
        "    elif x['linha_cuidado']=='citopatologico' and x['citopatologico_pendente_atual']==True:\n",
        "        return True\n",
        "    else:\n",
        "        return False\n",
        "\n",
        "df_unificado['pendencia_atualizada'] = df_unificado.apply(pendencia_atualizada,axis=1)"
      ],
      "metadata": {
        "id": "4gZ8azSlptCI"
      },
      "execution_count": 72,
      "outputs": []
    },
    {
      "cell_type": "code",
      "source": [
        "df_unificado = df_unificado[df_unificado['pendencia_atualizada']==True]\n",
        "df_unificado = df_unificado.drop_duplicates()"
      ],
      "metadata": {
        "id": "5EzW-Ak1rsku"
      },
      "execution_count": 73,
      "outputs": []
    },
    {
      "cell_type": "code",
      "source": [
        "# histórico de envios anteriores\n",
        "query = \"\"\"\n",
        "    SELECT *\n",
        "    FROM `predictive-keep-314223.ip_mensageria_camada_prata.historico_envio_mensagens`\n",
        "\"\"\"\n",
        "\n",
        "query_job = client.query(query)\n",
        "df_historico_envio_mensagens = query_job.to_dataframe()"
      ],
      "metadata": {
        "id": "McoTH2D6ritD"
      },
      "execution_count": 74,
      "outputs": []
    },
    {
      "cell_type": "code",
      "source": [
        "df_unificado['chave_cidadao'] = df_unificado['nome_do_paciente'].astype(str) + '_' + df_unificado['data_de_nascimento'].astype(str)\n",
        "df_historico_envio_mensagens['chave_cidadao'] = df_historico_envio_mensagens['nome_do_paciente'].astype(str) + '_' + df_historico_envio_mensagens['data_de_nascimento'].astype(str)\n",
        "\n",
        "# filtrando cidadãos que já receberam a mensagem\n",
        "df_filtrado = df_unificado[~df_unificado['chave_cidadao'].isin(df_historico_envio_mensagens['chave_cidadao'])]\n",
        "\n",
        "#filtrando casos com o celular preenchido incorreto\n",
        "df_filtrado = df_filtrado[df_filtrado['celular_tratado']!=0]"
      ],
      "metadata": {
        "id": "pPnM82p-rzCF"
      },
      "execution_count": 75,
      "outputs": []
    },
    {
      "cell_type": "markdown",
      "source": [
        "#### Divisão por horários"
      ],
      "metadata": {
        "id": "Zzo_y3nBjL_m"
      }
    },
    {
      "cell_type": "code",
      "source": [
        "# função para dividir os usuários em grupos de horários das mensagens\n",
        "def dividir_grupos_equilibrado(df, num_grupos=3):\n",
        "    def dividir_municipio(grupo):\n",
        "        grupo_size = len(grupo)\n",
        "        grupos = np.tile(range(1, num_grupos + 1), grupo_size // num_grupos + 1)[:grupo_size]\n",
        "        np.random.shuffle(grupos)\n",
        "        return grupos\n",
        "\n",
        "    #considerando a divisão em equipes\n",
        "    df['horario_grupo'] = df.groupby('equipe_ine')['equipe_ine'].transform(dividir_municipio)\n",
        "\n",
        "    return df\n",
        "\n",
        "df_dividido = dividir_grupos_equilibrado(df_filtrado)"
      ],
      "metadata": {
        "id": "ycKMS_40scaj"
      },
      "execution_count": 76,
      "outputs": []
    },
    {
      "cell_type": "code",
      "source": [
        "# máximo de 15 pessoas por equipe, dia e linha de cuidado -> máximo de 5 pessoas por horário, equipe, dia e linha de cuidado\n",
        "df_envio_diario = df_dividido.groupby(['municipio','equipe_ine','linha_cuidado','horario_grupo','grupo']).apply(lambda x: x.sample(min(len(x), 5))).reset_index(drop=True)"
      ],
      "metadata": {
        "colab": {
          "base_uri": "https://localhost:8080/"
        },
        "id": "8Gn6kwV3GcRz",
        "outputId": "deb741ce-0cc6-4652-862d-d055bac33c66"
      },
      "execution_count": 77,
      "outputs": [
        {
          "output_type": "stream",
          "name": "stderr",
          "text": [
            "<ipython-input-77-1753165cde40>:2: DeprecationWarning: DataFrameGroupBy.apply operated on the grouping columns. This behavior is deprecated, and in a future version of pandas the grouping columns will be excluded from the operation. Either pass `include_groups=False` to exclude the groupings or explicitly select the grouping columns after groupby to silence this warning.\n",
            "  df_envio_diario = df_dividido.groupby(['municipio','equipe_ine','linha_cuidado','horario_grupo','grupo']).apply(lambda x: x.sample(min(len(x), 5))).reset_index(drop=True)\n"
          ]
        }
      ]
    },
    {
      "cell_type": "code",
      "source": [
        "df_envio_dia_atual = df_envio_diario[['municipio', 'equipe_ine', 'equipe_nome', 'linha_cuidado','nome_do_paciente','data_de_nascimento','celular_tratado','horario_grupo','grupo']]\n",
        "df_envio_dia_atual['data_envio'] = datetime.today().strftime('%Y-%m-%d')\n",
        "df_envio_dia_atual['data_envio'] = df_envio_dia_atual['data_envio'].astype('datetime64[ns]')\n",
        "df_envio_dia_atual['celular_tratado'] = df_envio_dia_atual['celular_tratado'].astype(str)\n",
        "df_envio_dia_atual['horario_grupo'] = df_envio_dia_atual['horario_grupo'].astype(str)"
      ],
      "metadata": {
        "colab": {
          "base_uri": "https://localhost:8080/"
        },
        "id": "s0O1veaqHqs9",
        "outputId": "71d6aa68-b129-418c-cfdf-a52529740b80"
      },
      "execution_count": 78,
      "outputs": [
        {
          "output_type": "stream",
          "name": "stderr",
          "text": [
            "<ipython-input-78-fa4e4aa4d33f>:2: SettingWithCopyWarning: \n",
            "A value is trying to be set on a copy of a slice from a DataFrame.\n",
            "Try using .loc[row_indexer,col_indexer] = value instead\n",
            "\n",
            "See the caveats in the documentation: https://pandas.pydata.org/pandas-docs/stable/user_guide/indexing.html#returning-a-view-versus-a-copy\n",
            "  df_envio_dia_atual['data_envio'] = datetime.today().strftime('%Y-%m-%d')\n",
            "<ipython-input-78-fa4e4aa4d33f>:3: SettingWithCopyWarning: \n",
            "A value is trying to be set on a copy of a slice from a DataFrame.\n",
            "Try using .loc[row_indexer,col_indexer] = value instead\n",
            "\n",
            "See the caveats in the documentation: https://pandas.pydata.org/pandas-docs/stable/user_guide/indexing.html#returning-a-view-versus-a-copy\n",
            "  df_envio_dia_atual['data_envio'] = df_envio_dia_atual['data_envio'].astype('datetime64[ns]')\n",
            "<ipython-input-78-fa4e4aa4d33f>:4: SettingWithCopyWarning: \n",
            "A value is trying to be set on a copy of a slice from a DataFrame.\n",
            "Try using .loc[row_indexer,col_indexer] = value instead\n",
            "\n",
            "See the caveats in the documentation: https://pandas.pydata.org/pandas-docs/stable/user_guide/indexing.html#returning-a-view-versus-a-copy\n",
            "  df_envio_dia_atual['celular_tratado'] = df_envio_dia_atual['celular_tratado'].astype(str)\n",
            "<ipython-input-78-fa4e4aa4d33f>:5: SettingWithCopyWarning: \n",
            "A value is trying to be set on a copy of a slice from a DataFrame.\n",
            "Try using .loc[row_indexer,col_indexer] = value instead\n",
            "\n",
            "See the caveats in the documentation: https://pandas.pydata.org/pandas-docs/stable/user_guide/indexing.html#returning-a-view-versus-a-copy\n",
            "  df_envio_dia_atual['horario_grupo'] = df_envio_dia_atual['horario_grupo'].astype(str)\n"
          ]
        }
      ]
    },
    {
      "cell_type": "code",
      "source": [
        "#adicionar dados na tabela de histórico\n",
        "table_id = \"predictive-keep-314223.ip_mensageria_camada_prata.historico_envio_mensagens\"\n",
        "# incremento com os dados do dia atual\n",
        "job_config = bigquery.LoadJobConfig(write_disposition=\"WRITE_APPEND\")\n",
        "job = client.load_table_from_dataframe(df_envio_dia_atual, table_id, job_config=job_config)\n",
        "job.result()"
      ],
      "metadata": {
        "colab": {
          "base_uri": "https://localhost:8080/"
        },
        "id": "L8OFIrDAKHLD",
        "outputId": "bee51db9-83a7-4717-cd19-118cef11d491"
      },
      "execution_count": 80,
      "outputs": [
        {
          "output_type": "execute_result",
          "data": {
            "text/plain": [
              "LoadJob<project=predictive-keep-314223, location=US, id=2152ae12-34f9-4175-b3fa-52ca542c7828>"
            ]
          },
          "metadata": {},
          "execution_count": 80
        }
      ]
    }
  ]
}